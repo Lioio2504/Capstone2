{
 "cells": [
  {
   "cell_type": "code",
   "execution_count": 186,
   "metadata": {},
   "outputs": [],
   "source": [
    "import pandas as pd\n",
    "import matplotlib.pyplot as plt\n",
    "import seaborn as sns\n",
    "import numpy as np"
   ]
  },
  {
   "cell_type": "code",
   "execution_count": 187,
   "metadata": {},
   "outputs": [
    {
     "data": {
      "text/html": [
       "<div>\n",
       "<style scoped>\n",
       "    .dataframe tbody tr th:only-of-type {\n",
       "        vertical-align: middle;\n",
       "    }\n",
       "\n",
       "    .dataframe tbody tr th {\n",
       "        vertical-align: top;\n",
       "    }\n",
       "\n",
       "    .dataframe thead th {\n",
       "        text-align: right;\n",
       "    }\n",
       "</style>\n",
       "<table border=\"1\" class=\"dataframe\">\n",
       "  <thead>\n",
       "    <tr style=\"text-align: right;\">\n",
       "      <th></th>\n",
       "      <th>transID</th>\n",
       "      <th>payCardID</th>\n",
       "      <th>payCardBank</th>\n",
       "      <th>payCardName</th>\n",
       "      <th>payCardSex</th>\n",
       "      <th>payCardBirthDate</th>\n",
       "      <th>corridorID</th>\n",
       "      <th>corridorName</th>\n",
       "      <th>direction</th>\n",
       "      <th>tapInStops</th>\n",
       "      <th>tapInStopsName</th>\n",
       "      <th>tapInStopsLat</th>\n",
       "      <th>tapInStopsLon</th>\n",
       "      <th>stopStartSeq</th>\n",
       "      <th>tapInTime</th>\n",
       "      <th>tapOutStops</th>\n",
       "      <th>tapOutStopsName</th>\n",
       "      <th>tapOutStopsLat</th>\n",
       "      <th>tapOutStopsLon</th>\n",
       "      <th>stopEndSeq</th>\n",
       "      <th>tapOutTime</th>\n",
       "      <th>payAmount</th>\n",
       "    </tr>\n",
       "  </thead>\n",
       "  <tbody>\n",
       "    <tr>\n",
       "      <th>0</th>\n",
       "      <td>EIIW227B8L34VB</td>\n",
       "      <td>180062659848800</td>\n",
       "      <td>emoney</td>\n",
       "      <td>Bajragin Usada</td>\n",
       "      <td>M</td>\n",
       "      <td>2008</td>\n",
       "      <td>5</td>\n",
       "      <td>Matraman Baru - Ancol</td>\n",
       "      <td>1.0</td>\n",
       "      <td>P00142</td>\n",
       "      <td>Pal Putih</td>\n",
       "      <td>-6.184631</td>\n",
       "      <td>106.84402</td>\n",
       "      <td>7</td>\n",
       "      <td>2023-04-03 05:21:44</td>\n",
       "      <td>P00253</td>\n",
       "      <td>Tegalan</td>\n",
       "      <td>-6.203101</td>\n",
       "      <td>106.85715</td>\n",
       "      <td>12.0</td>\n",
       "      <td>2023-04-03 06:00:53</td>\n",
       "      <td>3500.0</td>\n",
       "    </tr>\n",
       "    <tr>\n",
       "      <th>1</th>\n",
       "      <td>LGXO740D2N47GZ</td>\n",
       "      <td>4885331907664776</td>\n",
       "      <td>dki</td>\n",
       "      <td>Gandi Widodo</td>\n",
       "      <td>F</td>\n",
       "      <td>1997</td>\n",
       "      <td>6C</td>\n",
       "      <td>Stasiun Tebet - Karet via Patra Kuningan</td>\n",
       "      <td>0.0</td>\n",
       "      <td>B01963P</td>\n",
       "      <td>Kemenkes 2</td>\n",
       "      <td>-6.228700</td>\n",
       "      <td>106.83302</td>\n",
       "      <td>13</td>\n",
       "      <td>2023-04-03 05:42:44</td>\n",
       "      <td>B03307P</td>\n",
       "      <td>Sampoerna Strategic</td>\n",
       "      <td>-6.217152</td>\n",
       "      <td>106.81892</td>\n",
       "      <td>21.0</td>\n",
       "      <td>2023-04-03 06:40:01</td>\n",
       "      <td>3500.0</td>\n",
       "    </tr>\n",
       "    <tr>\n",
       "      <th>2</th>\n",
       "      <td>DJWR385V2U57TO</td>\n",
       "      <td>4996225095064169</td>\n",
       "      <td>dki</td>\n",
       "      <td>Emong Wastuti</td>\n",
       "      <td>F</td>\n",
       "      <td>1992</td>\n",
       "      <td>R1A</td>\n",
       "      <td>Pantai Maju - Kota</td>\n",
       "      <td>0.0</td>\n",
       "      <td>B00499P</td>\n",
       "      <td>Gg. Kunir II</td>\n",
       "      <td>-6.133132</td>\n",
       "      <td>106.81435</td>\n",
       "      <td>38</td>\n",
       "      <td>2023-04-03 05:59:06</td>\n",
       "      <td>B04962P</td>\n",
       "      <td>Simpang Kunir Kemukus</td>\n",
       "      <td>-6.133731</td>\n",
       "      <td>106.81475</td>\n",
       "      <td>39.0</td>\n",
       "      <td>2023-04-03 06:50:55</td>\n",
       "      <td>3500.0</td>\n",
       "    </tr>\n",
       "    <tr>\n",
       "      <th>3</th>\n",
       "      <td>JTUZ800U7C86EH</td>\n",
       "      <td>639099174703</td>\n",
       "      <td>flazz</td>\n",
       "      <td>Surya Wacana</td>\n",
       "      <td>F</td>\n",
       "      <td>1978</td>\n",
       "      <td>11D</td>\n",
       "      <td>Pulo Gebang - Pulo Gadung 2 via PIK</td>\n",
       "      <td>0.0</td>\n",
       "      <td>B05587P</td>\n",
       "      <td>Taman Elok 1</td>\n",
       "      <td>-6.195743</td>\n",
       "      <td>106.93526</td>\n",
       "      <td>23</td>\n",
       "      <td>2023-04-03 05:44:51</td>\n",
       "      <td>B03090P</td>\n",
       "      <td>Raya Penggilingan</td>\n",
       "      <td>-6.183068</td>\n",
       "      <td>106.93194</td>\n",
       "      <td>29.0</td>\n",
       "      <td>2023-04-03 06:28:16</td>\n",
       "      <td>3500.0</td>\n",
       "    </tr>\n",
       "    <tr>\n",
       "      <th>4</th>\n",
       "      <td>VMLO535V7F95NJ</td>\n",
       "      <td>570928206772</td>\n",
       "      <td>flazz</td>\n",
       "      <td>Embuh Mardhiyah</td>\n",
       "      <td>M</td>\n",
       "      <td>1982</td>\n",
       "      <td>12</td>\n",
       "      <td>Tanjung Priok - Pluit</td>\n",
       "      <td>0.0</td>\n",
       "      <td>P00239</td>\n",
       "      <td>Sunter Boulevard Barat</td>\n",
       "      <td>-6.149650</td>\n",
       "      <td>106.88900</td>\n",
       "      <td>5</td>\n",
       "      <td>2023-04-03 06:17:35</td>\n",
       "      <td>P00098</td>\n",
       "      <td>Kali Besar Barat</td>\n",
       "      <td>-6.135355</td>\n",
       "      <td>106.81143</td>\n",
       "      <td>15.0</td>\n",
       "      <td>2023-04-03 06:57:03</td>\n",
       "      <td>3500.0</td>\n",
       "    </tr>\n",
       "    <tr>\n",
       "      <th>...</th>\n",
       "      <td>...</td>\n",
       "      <td>...</td>\n",
       "      <td>...</td>\n",
       "      <td>...</td>\n",
       "      <td>...</td>\n",
       "      <td>...</td>\n",
       "      <td>...</td>\n",
       "      <td>...</td>\n",
       "      <td>...</td>\n",
       "      <td>...</td>\n",
       "      <td>...</td>\n",
       "      <td>...</td>\n",
       "      <td>...</td>\n",
       "      <td>...</td>\n",
       "      <td>...</td>\n",
       "      <td>...</td>\n",
       "      <td>...</td>\n",
       "      <td>...</td>\n",
       "      <td>...</td>\n",
       "      <td>...</td>\n",
       "      <td>...</td>\n",
       "      <td>...</td>\n",
       "    </tr>\n",
       "    <tr>\n",
       "      <th>37895</th>\n",
       "      <td>ZWEC949B8Q87QG</td>\n",
       "      <td>4685818286724028395</td>\n",
       "      <td>brizzi</td>\n",
       "      <td>Kamila Mahendra</td>\n",
       "      <td>F</td>\n",
       "      <td>2004</td>\n",
       "      <td>6B</td>\n",
       "      <td>Ragunan - MH Thamrin via Semanggi</td>\n",
       "      <td>1.0</td>\n",
       "      <td>P00261</td>\n",
       "      <td>Tosari</td>\n",
       "      <td>-6.196892</td>\n",
       "      <td>106.82309</td>\n",
       "      <td>2</td>\n",
       "      <td>2023-04-21 18:18:37</td>\n",
       "      <td>P00228</td>\n",
       "      <td>SMK 57</td>\n",
       "      <td>-6.290967</td>\n",
       "      <td>106.82365</td>\n",
       "      <td>13.0</td>\n",
       "      <td>2023-04-21 19:55:49</td>\n",
       "      <td>3500.0</td>\n",
       "    </tr>\n",
       "    <tr>\n",
       "      <th>37896</th>\n",
       "      <td>YHHK837P6Y95GN</td>\n",
       "      <td>6502902290603767</td>\n",
       "      <td>dki</td>\n",
       "      <td>Titi Siregar</td>\n",
       "      <td>M</td>\n",
       "      <td>1974</td>\n",
       "      <td>9N</td>\n",
       "      <td>Pinang Ranti - Pramuka</td>\n",
       "      <td>1.0</td>\n",
       "      <td>P00064</td>\n",
       "      <td>Garuda Taman Mini</td>\n",
       "      <td>-6.290154</td>\n",
       "      <td>106.88116</td>\n",
       "      <td>1</td>\n",
       "      <td>2023-04-18 21:52:31</td>\n",
       "      <td>P00179</td>\n",
       "      <td>Pinang Ranti</td>\n",
       "      <td>-6.291075</td>\n",
       "      <td>106.88634</td>\n",
       "      <td>2.0</td>\n",
       "      <td>2023-04-18 22:28:22</td>\n",
       "      <td>3500.0</td>\n",
       "    </tr>\n",
       "    <tr>\n",
       "      <th>37897</th>\n",
       "      <td>YXPP627N4G95HO</td>\n",
       "      <td>213159426675861</td>\n",
       "      <td>emoney</td>\n",
       "      <td>drg. Zahra Nashiruddin</td>\n",
       "      <td>F</td>\n",
       "      <td>1976</td>\n",
       "      <td>1T</td>\n",
       "      <td>Cibubur - Balai Kota</td>\n",
       "      <td>1.0</td>\n",
       "      <td>B02873P</td>\n",
       "      <td>Plaza Sentral</td>\n",
       "      <td>-6.216247</td>\n",
       "      <td>106.81676</td>\n",
       "      <td>12</td>\n",
       "      <td>2023-04-04 10:29:47</td>\n",
       "      <td>B00226P</td>\n",
       "      <td>Buperta Cibubur</td>\n",
       "      <td>-6.370321</td>\n",
       "      <td>106.89628</td>\n",
       "      <td>14.0</td>\n",
       "      <td>2023-04-04 13:27:25</td>\n",
       "      <td>20000.0</td>\n",
       "    </tr>\n",
       "    <tr>\n",
       "      <th>37898</th>\n",
       "      <td>RGVK175U2U98UV</td>\n",
       "      <td>377840859133591</td>\n",
       "      <td>emoney</td>\n",
       "      <td>Ana Agustina</td>\n",
       "      <td>M</td>\n",
       "      <td>1976</td>\n",
       "      <td>JAK.13</td>\n",
       "      <td>Tanah Abang - Jembatan Lima</td>\n",
       "      <td>1.0</td>\n",
       "      <td>B02505P</td>\n",
       "      <td>Museum Textile</td>\n",
       "      <td>-6.188656</td>\n",
       "      <td>106.80954</td>\n",
       "      <td>33</td>\n",
       "      <td>2023-04-15 19:59:26</td>\n",
       "      <td>B01787P</td>\n",
       "      <td>JPO Blok G</td>\n",
       "      <td>-6.188861</td>\n",
       "      <td>106.81135</td>\n",
       "      <td>34.0</td>\n",
       "      <td>2023-04-15 20:27:50</td>\n",
       "      <td>0.0</td>\n",
       "    </tr>\n",
       "    <tr>\n",
       "      <th>37899</th>\n",
       "      <td>FMZZ963S4B68ZP</td>\n",
       "      <td>501862539795</td>\n",
       "      <td>flazz</td>\n",
       "      <td>drg. Leo Najmudin</td>\n",
       "      <td>F</td>\n",
       "      <td>1985</td>\n",
       "      <td>13</td>\n",
       "      <td>Ciledug - Tendean</td>\n",
       "      <td>0.0</td>\n",
       "      <td>P00001</td>\n",
       "      <td>Adam Malik</td>\n",
       "      <td>-6.236466</td>\n",
       "      <td>106.74786</td>\n",
       "      <td>2</td>\n",
       "      <td>2023-04-12 21:08:12</td>\n",
       "      <td>P00106</td>\n",
       "      <td>Kebayoran Lama</td>\n",
       "      <td>-6.238340</td>\n",
       "      <td>106.77752</td>\n",
       "      <td>7.0</td>\n",
       "      <td>2023-04-12 21:34:53</td>\n",
       "      <td>3500.0</td>\n",
       "    </tr>\n",
       "  </tbody>\n",
       "</table>\n",
       "<p>37900 rows × 22 columns</p>\n",
       "</div>"
      ],
      "text/plain": [
       "              transID            payCardID payCardBank             payCardName payCardSex  payCardBirthDate corridorID                              corridorName  direction tapInStops          tapInStopsName  tapInStopsLat  tapInStopsLon  stopStartSeq            tapInTime tapOutStops        tapOutStopsName  tapOutStopsLat  tapOutStopsLon  stopEndSeq           tapOutTime  payAmount\n",
       "0      EIIW227B8L34VB      180062659848800      emoney          Bajragin Usada          M              2008          5                     Matraman Baru - Ancol        1.0     P00142               Pal Putih      -6.184631      106.84402             7  2023-04-03 05:21:44      P00253                Tegalan       -6.203101       106.85715        12.0  2023-04-03 06:00:53     3500.0\n",
       "1      LGXO740D2N47GZ     4885331907664776         dki            Gandi Widodo          F              1997         6C  Stasiun Tebet - Karet via Patra Kuningan        0.0    B01963P              Kemenkes 2      -6.228700      106.83302            13  2023-04-03 05:42:44     B03307P    Sampoerna Strategic       -6.217152       106.81892        21.0  2023-04-03 06:40:01     3500.0\n",
       "2      DJWR385V2U57TO     4996225095064169         dki           Emong Wastuti          F              1992        R1A                        Pantai Maju - Kota        0.0    B00499P            Gg. Kunir II      -6.133132      106.81435            38  2023-04-03 05:59:06     B04962P  Simpang Kunir Kemukus       -6.133731       106.81475        39.0  2023-04-03 06:50:55     3500.0\n",
       "3      JTUZ800U7C86EH         639099174703       flazz            Surya Wacana          F              1978        11D       Pulo Gebang - Pulo Gadung 2 via PIK        0.0    B05587P            Taman Elok 1      -6.195743      106.93526            23  2023-04-03 05:44:51     B03090P      Raya Penggilingan       -6.183068       106.93194        29.0  2023-04-03 06:28:16     3500.0\n",
       "4      VMLO535V7F95NJ         570928206772       flazz         Embuh Mardhiyah          M              1982         12                     Tanjung Priok - Pluit        0.0     P00239  Sunter Boulevard Barat      -6.149650      106.88900             5  2023-04-03 06:17:35      P00098       Kali Besar Barat       -6.135355       106.81143        15.0  2023-04-03 06:57:03     3500.0\n",
       "...               ...                  ...         ...                     ...        ...               ...        ...                                       ...        ...        ...                     ...            ...            ...           ...                  ...         ...                    ...             ...             ...         ...                  ...        ...\n",
       "37895  ZWEC949B8Q87QG  4685818286724028395      brizzi         Kamila Mahendra          F              2004         6B         Ragunan - MH Thamrin via Semanggi        1.0     P00261                  Tosari      -6.196892      106.82309             2  2023-04-21 18:18:37      P00228                 SMK 57       -6.290967       106.82365        13.0  2023-04-21 19:55:49     3500.0\n",
       "37896  YHHK837P6Y95GN     6502902290603767         dki            Titi Siregar          M              1974         9N                    Pinang Ranti - Pramuka        1.0     P00064       Garuda Taman Mini      -6.290154      106.88116             1  2023-04-18 21:52:31      P00179           Pinang Ranti       -6.291075       106.88634         2.0  2023-04-18 22:28:22     3500.0\n",
       "37897  YXPP627N4G95HO      213159426675861      emoney  drg. Zahra Nashiruddin          F              1976         1T                      Cibubur - Balai Kota        1.0    B02873P           Plaza Sentral      -6.216247      106.81676            12  2023-04-04 10:29:47     B00226P        Buperta Cibubur       -6.370321       106.89628        14.0  2023-04-04 13:27:25    20000.0\n",
       "37898  RGVK175U2U98UV      377840859133591      emoney            Ana Agustina          M              1976     JAK.13               Tanah Abang - Jembatan Lima        1.0    B02505P          Museum Textile      -6.188656      106.80954            33  2023-04-15 19:59:26     B01787P             JPO Blok G       -6.188861       106.81135        34.0  2023-04-15 20:27:50        0.0\n",
       "37899  FMZZ963S4B68ZP         501862539795       flazz       drg. Leo Najmudin          F              1985         13                         Ciledug - Tendean        0.0     P00001              Adam Malik      -6.236466      106.74786             2  2023-04-12 21:08:12      P00106         Kebayoran Lama       -6.238340       106.77752         7.0  2023-04-12 21:34:53     3500.0\n",
       "\n",
       "[37900 rows x 22 columns]"
      ]
     },
     "execution_count": 187,
     "metadata": {},
     "output_type": "execute_result"
    }
   ],
   "source": [
    "df = pd.read_csv(r\"C:\\Users\\Lionie Sibuea\\Downloads\\Transjakarta data.csv\")\n",
    "df"
   ]
  },
  {
   "cell_type": "code",
   "execution_count": 188,
   "metadata": {},
   "outputs": [
    {
     "name": "stdout",
     "output_type": "stream",
     "text": [
      "              transID            payCardID payCardBank             payCardName payCardSex  payCardBirthDate corridorID                              corridorName  direction tapInStops          tapInStopsName  tapInStopsLat  tapInStopsLon  stopStartSeq            tapInTime tapOutStops        tapOutStopsName  tapOutStopsLat  tapOutStopsLon  stopEndSeq           tapOutTime  payAmount\n",
      "0      EIIW227B8L34VB      180062659848800      emoney          Bajragin Usada          M              2008          5                     Matraman Baru - Ancol        1.0     P00142               Pal Putih      -6.184631      106.84402             7  2023-04-03 05:21:44      P00253                Tegalan       -6.203101       106.85715        12.0  2023-04-03 06:00:53     3500.0\n",
      "1      LGXO740D2N47GZ     4885331907664776         dki            Gandi Widodo          F              1997         6C  Stasiun Tebet - Karet via Patra Kuningan        0.0    B01963P              Kemenkes 2      -6.228700      106.83302            13  2023-04-03 05:42:44     B03307P    Sampoerna Strategic       -6.217152       106.81892        21.0  2023-04-03 06:40:01     3500.0\n",
      "2      DJWR385V2U57TO     4996225095064169         dki           Emong Wastuti          F              1992        R1A                        Pantai Maju - Kota        0.0    B00499P            Gg. Kunir II      -6.133132      106.81435            38  2023-04-03 05:59:06     B04962P  Simpang Kunir Kemukus       -6.133731       106.81475        39.0  2023-04-03 06:50:55     3500.0\n",
      "3      JTUZ800U7C86EH         639099174703       flazz            Surya Wacana          F              1978        11D       Pulo Gebang - Pulo Gadung 2 via PIK        0.0    B05587P            Taman Elok 1      -6.195743      106.93526            23  2023-04-03 05:44:51     B03090P      Raya Penggilingan       -6.183068       106.93194        29.0  2023-04-03 06:28:16     3500.0\n",
      "4      VMLO535V7F95NJ         570928206772       flazz         Embuh Mardhiyah          M              1982         12                     Tanjung Priok - Pluit        0.0     P00239  Sunter Boulevard Barat      -6.149650      106.88900             5  2023-04-03 06:17:35      P00098       Kali Besar Barat       -6.135355       106.81143        15.0  2023-04-03 06:57:03     3500.0\n",
      "...               ...                  ...         ...                     ...        ...               ...        ...                                       ...        ...        ...                     ...            ...            ...           ...                  ...         ...                    ...             ...             ...         ...                  ...        ...\n",
      "37895  ZWEC949B8Q87QG  4685818286724028395      brizzi         Kamila Mahendra          F              2004         6B         Ragunan - MH Thamrin via Semanggi        1.0     P00261                  Tosari      -6.196892      106.82309             2  2023-04-21 18:18:37      P00228                 SMK 57       -6.290967       106.82365        13.0  2023-04-21 19:55:49     3500.0\n",
      "37896  YHHK837P6Y95GN     6502902290603767         dki            Titi Siregar          M              1974         9N                    Pinang Ranti - Pramuka        1.0     P00064       Garuda Taman Mini      -6.290154      106.88116             1  2023-04-18 21:52:31      P00179           Pinang Ranti       -6.291075       106.88634         2.0  2023-04-18 22:28:22     3500.0\n",
      "37897  YXPP627N4G95HO      213159426675861      emoney  drg. Zahra Nashiruddin          F              1976         1T                      Cibubur - Balai Kota        1.0    B02873P           Plaza Sentral      -6.216247      106.81676            12  2023-04-04 10:29:47     B00226P        Buperta Cibubur       -6.370321       106.89628        14.0  2023-04-04 13:27:25    20000.0\n",
      "37898  RGVK175U2U98UV      377840859133591      emoney            Ana Agustina          M              1976     JAK.13               Tanah Abang - Jembatan Lima        1.0    B02505P          Museum Textile      -6.188656      106.80954            33  2023-04-15 19:59:26     B01787P             JPO Blok G       -6.188861       106.81135        34.0  2023-04-15 20:27:50        0.0\n",
      "37899  FMZZ963S4B68ZP         501862539795       flazz       drg. Leo Najmudin          F              1985         13                         Ciledug - Tendean        0.0     P00001              Adam Malik      -6.236466      106.74786             2  2023-04-12 21:08:12      P00106         Kebayoran Lama       -6.238340       106.77752         7.0  2023-04-12 21:34:53     3500.0\n",
      "\n",
      "[37900 rows x 22 columns]\n"
     ]
    }
   ],
   "source": [
    "pd.set_option('display.max_columns', None)  # To show all columns\n",
    "pd.set_option('display.width', 1000)       # Adjust the display\n",
    "\n",
    "print(df)\n"
   ]
  },
  {
   "cell_type": "code",
   "execution_count": 189,
   "metadata": {},
   "outputs": [
    {
     "data": {
      "text/plain": [
       "1007"
      ]
     },
     "execution_count": 189,
     "metadata": {},
     "output_type": "execute_result"
    }
   ],
   "source": [
    "#Data Cleansing\n",
    "len(df[df['payAmount'].isna()])"
   ]
  },
  {
   "cell_type": "code",
   "execution_count": 190,
   "metadata": {},
   "outputs": [
    {
     "data": {
      "text/plain": [
       "2289"
      ]
     },
     "execution_count": 190,
     "metadata": {},
     "output_type": "execute_result"
    }
   ],
   "source": [
    "len(df[df['tapOutStops'].isna()])"
   ]
  },
  {
   "cell_type": "code",
   "execution_count": 191,
   "metadata": {},
   "outputs": [],
   "source": [
    "df['payAmount_copy'] = df['tapOutStops'].apply(lambda x: 20000 if x is np.nan else np.nan)\n",
    "df['payAmount'] = df['payAmount'].fillna(df['payAmount_copy'])\n",
    "df.drop(labels='payAmount_copy', axis=1, inplace=True)\n"
   ]
  },
  {
   "cell_type": "code",
   "execution_count": 192,
   "metadata": {},
   "outputs": [
    {
     "data": {
      "text/plain": [
       "Series([], Name: payAmount, dtype: float64)"
      ]
     },
     "execution_count": 192,
     "metadata": {},
     "output_type": "execute_result"
    }
   ],
   "source": [
    "df[df['tapOutStops'] == np.nan]['payAmount']\n"
   ]
  },
  {
   "cell_type": "code",
   "execution_count": 193,
   "metadata": {},
   "outputs": [
    {
     "data": {
      "text/plain": [
       "946"
      ]
     },
     "execution_count": 193,
     "metadata": {},
     "output_type": "execute_result"
    }
   ],
   "source": [
    "len(df[df['payAmount'].isna()])\n"
   ]
  },
  {
   "cell_type": "code",
   "execution_count": 194,
   "metadata": {},
   "outputs": [],
   "source": [
    "df['corridorID'] = df['corridorID'].apply(lambda x: None if x is np.nan else x)\n",
    "df['corridorID'] = df['corridorID'].apply(lambda x: str(x).replace(\"JAK.\", \"\") if x is not None else None)"
   ]
  },
  {
   "cell_type": "code",
   "execution_count": 195,
   "metadata": {},
   "outputs": [
    {
     "data": {
      "text/html": [
       "<div>\n",
       "<style scoped>\n",
       "    .dataframe tbody tr th:only-of-type {\n",
       "        vertical-align: middle;\n",
       "    }\n",
       "\n",
       "    .dataframe tbody tr th {\n",
       "        vertical-align: top;\n",
       "    }\n",
       "\n",
       "    .dataframe thead th {\n",
       "        text-align: right;\n",
       "    }\n",
       "</style>\n",
       "<table border=\"1\" class=\"dataframe\">\n",
       "  <thead>\n",
       "    <tr style=\"text-align: right;\">\n",
       "      <th></th>\n",
       "      <th>corridorID</th>\n",
       "      <th>corridorName</th>\n",
       "    </tr>\n",
       "  </thead>\n",
       "  <tbody>\n",
       "    <tr>\n",
       "      <th>0</th>\n",
       "      <td>5</td>\n",
       "      <td>Matraman Baru - Ancol</td>\n",
       "    </tr>\n",
       "    <tr>\n",
       "      <th>1</th>\n",
       "      <td>6C</td>\n",
       "      <td>Stasiun Tebet - Karet via Patra Kuningan</td>\n",
       "    </tr>\n",
       "    <tr>\n",
       "      <th>2</th>\n",
       "      <td>R1A</td>\n",
       "      <td>Pantai Maju - Kota</td>\n",
       "    </tr>\n",
       "    <tr>\n",
       "      <th>3</th>\n",
       "      <td>11D</td>\n",
       "      <td>Pulo Gebang - Pulo Gadung 2 via PIK</td>\n",
       "    </tr>\n",
       "    <tr>\n",
       "      <th>4</th>\n",
       "      <td>12</td>\n",
       "      <td>Tanjung Priok - Pluit</td>\n",
       "    </tr>\n",
       "  </tbody>\n",
       "</table>\n",
       "</div>"
      ],
      "text/plain": [
       "  corridorID                              corridorName\n",
       "0          5                     Matraman Baru - Ancol\n",
       "1         6C  Stasiun Tebet - Karet via Patra Kuningan\n",
       "2        R1A                        Pantai Maju - Kota\n",
       "3        11D       Pulo Gebang - Pulo Gadung 2 via PIK\n",
       "4         12                     Tanjung Priok - Pluit"
      ]
     },
     "execution_count": 195,
     "metadata": {},
     "output_type": "execute_result"
    }
   ],
   "source": [
    "df_corr_info = df[['corridorID', 'corridorName']].copy()\n",
    "df_corr_info.dropna(how=\"all\", inplace=True)\n",
    "df_corr_info.head()"
   ]
  },
  {
   "cell_type": "code",
   "execution_count": 196,
   "metadata": {},
   "outputs": [
    {
     "data": {
      "text/plain": [
       "36775"
      ]
     },
     "execution_count": 196,
     "metadata": {},
     "output_type": "execute_result"
    }
   ],
   "source": [
    "len(df_corr_info)"
   ]
  },
  {
   "cell_type": "code",
   "execution_count": 197,
   "metadata": {},
   "outputs": [],
   "source": [
    "df_corr_info.drop_duplicates(inplace=True)"
   ]
  },
  {
   "cell_type": "code",
   "execution_count": 198,
   "metadata": {},
   "outputs": [
    {
     "data": {
      "text/plain": [
       "520"
      ]
     },
     "execution_count": 198,
     "metadata": {},
     "output_type": "execute_result"
    }
   ],
   "source": [
    "len(df_corr_info)"
   ]
  },
  {
   "cell_type": "code",
   "execution_count": 199,
   "metadata": {},
   "outputs": [],
   "source": [
    "#Filling the blanks (corr_name with known corr_name)\n",
    "for i in range(0, len(df_corr_info)):\n",
    "    corr_ids = df_corr_info.iloc[i, 0]\n",
    "    corr_name = df_corr_info[df_corr_info['corridorID'] == corr_ids]['corridorName'].dropna().values \n",
    "    if len(corr_name) > 0:\n",
    "        df_corr_info.iloc[i, 1] = corr_name[0] "
   ]
  },
  {
   "cell_type": "code",
   "execution_count": 200,
   "metadata": {},
   "outputs": [],
   "source": [
    "#Filling the blanks (corr_ids with known corr_ids)\n",
    "for i in range(0, len(df_corr_info)):\n",
    "    corr_name = df_corr_info.iloc[i, 1]\n",
    "    corr_ids = df_corr_info[df_corr_info['corridorName'] == corr_name]['corridorID'].dropna().values\n",
    "    if len(corr_ids) > 0:\n",
    "        df_corr_info.iloc[i, 0] = corr_ids[0]"
   ]
  },
  {
   "cell_type": "code",
   "execution_count": 201,
   "metadata": {},
   "outputs": [],
   "source": [
    "df_corr_info.drop_duplicates(subset='corridorName', inplace=True)\n",
    "df_corr_info.drop_duplicates(subset='corridorID', inplace=True)\n",
    "df_corr_info.dropna(how='any')\n",
    "df_corr_info.reset_index(inplace=True, drop=True)\n",
    "df_corr_info.columns = ['corridorID', 'corridorName_TRUE']"
   ]
  },
  {
   "cell_type": "code",
   "execution_count": 202,
   "metadata": {},
   "outputs": [],
   "source": [
    "df = pd.merge(\n",
    "    left = df,\n",
    "    right = df_corr_info,\n",
    "    on = 'corridorID'\n",
    ")"
   ]
  },
  {
   "cell_type": "code",
   "execution_count": 203,
   "metadata": {},
   "outputs": [],
   "source": [
    "df['corridorName'] = df['corridorName'].fillna(df['corridorName_TRUE'])\n",
    "df.drop('corridorName_TRUE', axis=1, inplace=True)"
   ]
  },
  {
   "cell_type": "code",
   "execution_count": 204,
   "metadata": {},
   "outputs": [],
   "source": [
    "df['tapOutStops'] = df['tapOutStops'].apply(lambda x: df['tapOutStops'].mode().values[0] if x is np.nan else x)\n",
    "df['tapInStops'] = df['tapInStops'].apply(lambda x: df['tapInStops'].mode().values[0] if x is np.nan else x)\n"
   ]
  },
  {
   "cell_type": "code",
   "execution_count": 205,
   "metadata": {},
   "outputs": [],
   "source": [
    "df=df.drop(labels=['tapInStopsLat', 'tapInStopsLon', 'tapOutStopsLat', 'tapOutStopsLon'], axis=1)"
   ]
  },
  {
   "cell_type": "code",
   "execution_count": 206,
   "metadata": {},
   "outputs": [],
   "source": [
    "#changing the birthdate to string\n",
    "df['payCardBirthDate']=df['payCardBirthDate'].astype(str)\n"
   ]
  },
  {
   "cell_type": "code",
   "execution_count": 207,
   "metadata": {},
   "outputs": [
    {
     "data": {
      "image/png": "[encoded data removed]",
      "text/plain": [
       "<Figure size 800x500 with 1 Axes>"
      ]
     },
     "metadata": {},
     "output_type": "display_data"
    }
   ],
   "source": [
    "#How Many Male and Female who rode Transjakarta\n",
    "gender_counts = df['payCardSex'].value_counts()\n",
    "plt.figure(figsize=(8, 5))\n",
    "plt.bar(\n",
    "    x=gender_counts.index,\n",
    "    height=gender_counts,\n",
    "    color=['pink', 'blue']\n",
    ")\n",
    "\n",
    "plt.title('Gender of Transjakarta User')\n",
    "plt.ylabel('Count')\n",
    "plt.show()\n",
    "\n",
    "#Based on the data there are more females Transjakarta user"
   ]
  },
  {
   "cell_type": "code",
   "execution_count": 208,
   "metadata": {},
   "outputs": [
    {
     "data": {
      "image/png": "[encoded data removed]",
      "text/plain": [
       "<Figure size 800x800 with 1 Axes>"
      ]
     },
     "metadata": {},
     "output_type": "display_data"
    }
   ],
   "source": [
    "import matplotlib.pyplot as plt\n",
    "bank_type = df['payCardBank'].value_counts()\n",
    "\n",
    "#Making the pie chart\n",
    "plt.figure(figsize=(8, 8))\n",
    "plt.pie(\n",
    "    bank_type,\n",
    "    labels = bank_type.index,\n",
    "    autopct ='%1.1f%%',\n",
    "    colors =['green', 'lightblue', 'lime', 'darkblue', 'lightgreen', 'yellow'],\n",
    "    startangle=90\n",
    ")\n",
    "plt.title('Distribution of Transjakarta Users preffered bank card')\n",
    "plt.show()"
   ]
  },
  {
   "cell_type": "code",
   "execution_count": 209,
   "metadata": {},
   "outputs": [
    {
     "data": {
      "image/png": "[encoded data removed]",
      "text/plain": [
       "<Figure size 800x400 with 1 Axes>"
      ]
     },
     "metadata": {},
     "output_type": "display_data"
    }
   ],
   "source": [
    "import pandas as pd\n",
    "import matplotlib.pyplot as plt\n",
    "\n",
    "bank_gender_usage = df.groupby(['payCardBank', 'payCardSex']).size().unstack(fill_value=0)\n",
    "\n",
    "bank_gender_usage.plot(kind='bar', stacked=True, figsize=(8, 4), color=['lightblue', 'lightcoral'])\n",
    "\n",
    "plt.title('PayCardBank Usage by Gender', fontsize=16)\n",
    "plt.xlabel('PayCardBank', fontsize=12)\n",
    "plt.ylabel('Number of Usages', fontsize=12)\n",
    "\n",
    "plt.legend(title='Gender')\n",
    "plt.xticks(rotation=45)\n",
    "\n",
    "plt.tight_layout()\n",
    "plt.show()"
   ]
  },
  {
   "cell_type": "code",
   "execution_count": 210,
   "metadata": {},
   "outputs": [],
   "source": [
    "df.to_excel('Transjakarta_Cleansed.xlsx',index=False)"
   ]
  }
 ],
 "metadata": {
  "kernelspec": {
   "display_name": "base",
   "language": "python",
   "name": "python3"
  },
  "language_info": {
   "codemirror_mode": {
    "name": "ipython",
    "version": 3
   },
   "file_extension": ".py",
   "mimetype": "text/x-python",
   "name": "python",
   "nbconvert_exporter": "python",
   "pygments_lexer": "ipython3",
   "version": "3.12.7"
  }
 },
 "nbformat": 4,
 "nbformat_minor": 2
}
